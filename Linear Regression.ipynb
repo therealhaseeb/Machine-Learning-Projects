{
  "nbformat": 4,
  "nbformat_minor": 0,
  "metadata": {
    "colab": {
      "name": "Untitled11.ipynb",
      "version": "0.3.2",
      "provenance": [],
      "include_colab_link": true
    },
    "kernelspec": {
      "name": "python3",
      "display_name": "Python 3"
    }
  },
  "cells": [
    {
      "cell_type": "markdown",
      "metadata": {
        "id": "view-in-github",
        "colab_type": "text"
      },
      "source": [
        "<a href=\"https://colab.research.google.com/github/haseeb1zahid/Machine-Learning-Projects/blob/master/Linear%20Regression.ipynb\" target=\"_parent\"><img src=\"https://colab.research.google.com/assets/colab-badge.svg\" alt=\"Open In Colab\"/></a>"
      ]
    },
    {
      "metadata": {
        "id": "fcpP8-Z-ts9K",
        "colab_type": "code",
        "colab": {}
      },
      "cell_type": "code",
      "source": [
        "import pandas as pd\n",
        "import pprint\n",
        "from sklearn.datasets import load_boston\n",
        "from sklearn import linear_model\n",
        "from sklearn.model_selection import train_test_split"
      ],
      "execution_count": 0,
      "outputs": []
    },
    {
      "metadata": {
        "id": "acLERjYet5o5",
        "colab_type": "code",
        "colab": {}
      },
      "cell_type": "code",
      "source": [
        "boston = load_boston()\n",
        "df_x = pd.DataFrame(boston.data, columns = boston.feature_names)\n",
        "df_y = pd.DataFrame(boston.target)"
      ],
      "execution_count": 0,
      "outputs": []
    },
    {
      "metadata": {
        "id": "D3hVMo-0t9Uj",
        "colab_type": "code",
        "colab": {
          "base_uri": "https://localhost:8080/",
          "height": 51
        },
        "outputId": "9cf3bfcc-35ff-4feb-b0f9-6da484e85739"
      },
      "cell_type": "code",
      "source": [
        "model = linear_model.LinearRegression()\n",
        "\n",
        "x_train, x_test, y_train, y_test = train_test_split(df_x, df_y, test_size = 0.2, random_state = 4 )\n",
        "\n",
        "model.fit(x_train,y_train)"
      ],
      "execution_count": 5,
      "outputs": [
        {
          "output_type": "execute_result",
          "data": {
            "text/plain": [
              "LinearRegression(copy_X=True, fit_intercept=True, n_jobs=None,\n",
              "         normalize=False)"
            ]
          },
          "metadata": {
            "tags": []
          },
          "execution_count": 5
        }
      ]
    },
    {
      "metadata": {
        "id": "yKwdr7_juB1z",
        "colab_type": "code",
        "colab": {
          "base_uri": "https://localhost:8080/",
          "height": 1122
        },
        "outputId": "2f17acf3-ad41-4f9f-b016-781a02300d5e"
      },
      "cell_type": "code",
      "source": [
        "results = model.predict(x_test)\n",
        "print(results[4] )\n",
        "print(y_test)"
      ],
      "execution_count": 6,
      "outputs": [
        {
          "output_type": "stream",
          "text": [
            "[36.92091659]\n",
            "        0\n",
            "8    16.5\n",
            "289  24.8\n",
            "68   17.4\n",
            "211  19.3\n",
            "226  37.6\n",
            "70   24.2\n",
            "55   35.4\n",
            "470  19.9\n",
            "409  27.5\n",
            "154  17.0\n",
            "344  31.2\n",
            "272  24.4\n",
            "310  16.1\n",
            "160  27.0\n",
            "319  21.0\n",
            "454  14.9\n",
            "11   18.9\n",
            "399   6.3\n",
            "413  16.3\n",
            "25   13.9\n",
            "418   8.8\n",
            "153  19.4\n",
            "124  18.8\n",
            "108  19.8\n",
            "345  17.5\n",
            "103  19.3\n",
            "209  20.0\n",
            "129  14.3\n",
            "432  16.1\n",
            "106  19.5\n",
            "..    ...\n",
            "63   25.0\n",
            "239  23.3\n",
            "123  17.3\n",
            "64   33.0\n",
            "139  17.8\n",
            "314  23.8\n",
            "427  10.9\n",
            "102  18.6\n",
            "45   19.3\n",
            "476  16.7\n",
            "80   28.0\n",
            "14   18.2\n",
            "278  29.1\n",
            "505  11.9\n",
            "341  32.7\n",
            "497  18.3\n",
            "212  22.4\n",
            "280  45.4\n",
            "229  31.5\n",
            "203  48.5\n",
            "317  19.8\n",
            "232  41.7\n",
            "327  22.2\n",
            "309  20.3\n",
            "269  20.7\n",
            "368  50.0\n",
            "144  11.8\n",
            "336  19.5\n",
            "437   8.7\n",
            "216  23.3\n",
            "\n",
            "[102 rows x 1 columns]\n"
          ],
          "name": "stdout"
        }
      ]
    }
  ]
}