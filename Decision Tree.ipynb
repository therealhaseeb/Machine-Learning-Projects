{
  "nbformat": 4,
  "nbformat_minor": 0,
  "metadata": {
    "colab": {
      "name": "Untitled15.ipynb",
      "version": "0.3.2",
      "provenance": [],
      "include_colab_link": true
    },
    "kernelspec": {
      "name": "python3",
      "display_name": "Python 3"
    }
  },
  "cells": [
    {
      "cell_type": "markdown",
      "metadata": {
        "id": "view-in-github",
        "colab_type": "text"
      },
      "source": [
        "<a href=\"https://colab.research.google.com/github/haseeb1zahid/Machine-Learning-Projects/blob/master/Decision%20Tree.ipynb\" target=\"_parent\"><img src=\"https://colab.research.google.com/assets/colab-badge.svg\" alt=\"Open In Colab\"/></a>"
      ]
    },
    {
      "metadata": {
        "id": "gZqNitO65NZ4",
        "colab_type": "code",
        "colab": {
          "base_uri": "https://localhost:8080/",
          "height": 119
        },
        "outputId": "8f640b16-1679-42e8-9ead-6bf319a181f6"
      },
      "cell_type": "code",
      "source": [
        "from sklearn.tree import DecisionTreeClassifier\n",
        "from sklearn import preprocessing\n",
        "import numpy as np\n",
        "\n",
        "le = preprocessing.LabelEncoder()\n",
        "clf = DecisionTreeClassifier()\n",
        "\n",
        "training = np.array([\n",
        "    [3, \"yes\", 62, \"accept\"],\n",
        "    [4, \"yes\", 70, \"accept\"],\n",
        "    [2, \"yes\", 71, \"reject\"],\n",
        "    [5, \"yes\", 58, \"reject\"],\n",
        "    [1, \"no\", 76, \"reject\"],\n",
        "    [6, \"no\", 64, \"reject\"],\n",
        "    [2, \"yes\", 74, \"reject\"],\n",
        "    [3, \"yes\", 75, \"accept\"],\n",
        "    [4, \"yes\", 67, \"accept\"],\n",
        "    [2, \"no\", 73, \"reject\"],\n",
        "])\n",
        "\n",
        "training[:,1] = le.fit_transform(training[:,1]) \n",
        "\n",
        "\n",
        "X = training[:,:-1]\n",
        "y = training[:,-1]\n",
        "\n",
        "clf.fit(X,y)"
      ],
      "execution_count": 1,
      "outputs": [
        {
          "output_type": "execute_result",
          "data": {
            "text/plain": [
              "DecisionTreeClassifier(class_weight=None, criterion='gini', max_depth=None,\n",
              "            max_features=None, max_leaf_nodes=None,\n",
              "            min_impurity_decrease=0.0, min_impurity_split=None,\n",
              "            min_samples_leaf=1, min_samples_split=2,\n",
              "            min_weight_fraction_leaf=0.0, presort=False, random_state=None,\n",
              "            splitter='best')"
            ]
          },
          "metadata": {
            "tags": []
          },
          "execution_count": 1
        }
      ]
    },
    {
      "metadata": {
        "id": "IuJFycS_5s4z",
        "colab_type": "code",
        "colab": {
          "base_uri": "https://localhost:8080/",
          "height": 34
        },
        "outputId": "db265418-71d9-4db1-82f5-b5295a7e8a3d"
      },
      "cell_type": "code",
      "source": [
        "# test data\n",
        "test = np.array([\n",
        "\t[3, \"yes\", 63],\n",
        "\t[1, \"no\", 59],\n",
        "\t])\n",
        "test[:,1] = le.transform(test[:,1])\n",
        "\n",
        "print(clf.predict(test))"
      ],
      "execution_count": 2,
      "outputs": [
        {
          "output_type": "stream",
          "text": [
            "['accept' 'reject']\n"
          ],
          "name": "stdout"
        }
      ]
    }
  ]
}