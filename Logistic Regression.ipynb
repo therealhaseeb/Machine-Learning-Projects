{
  "nbformat": 4,
  "nbformat_minor": 0,
  "metadata": {
    "colab": {
      "name": "logistic_regression.ipynb",
      "version": "0.3.2",
      "provenance": [],
      "include_colab_link": true
    },
    "kernelspec": {
      "display_name": "Python 2",
      "language": "python",
      "name": "python2"
    }
  },
  "cells": [
    {
      "cell_type": "markdown",
      "metadata": {
        "id": "view-in-github",
        "colab_type": "text"
      },
      "source": [
        "<a href=\"https://colab.research.google.com/github/haseeb1zahid/Machine-Learning-Projects/blob/master/Logistic%20Regression.ipynb\" target=\"_parent\"><img src=\"https://colab.research.google.com/assets/colab-badge.svg\" alt=\"Open In Colab\"/></a>"
      ]
    },
    {
      "metadata": {
        "id": "CgM4vcj_ysNF",
        "colab_type": "code",
        "colab": {}
      },
      "cell_type": "code",
      "source": [
        "import numpy as np\n",
        "import pandas as pd\n",
        "import statsmodels.api as sm\n",
        "import matplotlib.pyplot as plt\n",
        "from patsy import dmatrices\n",
        "from sklearn.linear_model import LogisticRegression\n",
        "from sklearn.cross_validation import train_test_split\n",
        "from sklearn import metrics\n",
        "from sklearn.cross_validation import cross_val_score\n",
        "from sklearn import preprocessing"
      ],
      "execution_count": 0,
      "outputs": []
    },
    {
      "metadata": {
        "id": "C6u5Jy0YysNP",
        "colab_type": "code",
        "colab": {}
      },
      "cell_type": "code",
      "source": [
        "df = pd.read_csv(\"/tmp/lrtest.data\")"
      ],
      "execution_count": 0,
      "outputs": []
    },
    {
      "metadata": {
        "scrolled": true,
        "id": "2EGD8zIAysNa",
        "colab_type": "code",
        "colab": {},
        "outputId": "a4d4a171-49fa-49bd-903c-90096a2a6eee"
      },
      "cell_type": "code",
      "source": [
        "df.groupby('label').mean()"
      ],
      "execution_count": 0,
      "outputs": [
        {
          "output_type": "execute_result",
          "data": {
            "text/html": [
              "<div style=\"max-height:1000px;max-width:1500px;overflow:auto;\">\n",
              "<table border=\"1\" class=\"dataframe\">\n",
              "  <thead>\n",
              "    <tr style=\"text-align: right;\">\n",
              "      <th></th>\n",
              "      <th>gre_score</th>\n",
              "      <th>gpa</th>\n",
              "      <th>school_ranking</th>\n",
              "    </tr>\n",
              "    <tr>\n",
              "      <th>label</th>\n",
              "      <th></th>\n",
              "      <th></th>\n",
              "      <th></th>\n",
              "    </tr>\n",
              "  </thead>\n",
              "  <tbody>\n",
              "    <tr>\n",
              "      <th>0</th>\n",
              "      <td> 573.186813</td>\n",
              "      <td> 3.343700</td>\n",
              "      <td> 2.641026</td>\n",
              "    </tr>\n",
              "    <tr>\n",
              "      <th>1</th>\n",
              "      <td> 618.897638</td>\n",
              "      <td> 3.489213</td>\n",
              "      <td> 2.149606</td>\n",
              "    </tr>\n",
              "  </tbody>\n",
              "</table>\n",
              "</div>"
            ],
            "text/plain": [
              "        gre_score       gpa  school_ranking\n",
              "label                                      \n",
              "0      573.186813  3.343700        2.641026\n",
              "1      618.897638  3.489213        2.149606"
            ]
          },
          "metadata": {
            "tags": []
          },
          "execution_count": 4
        }
      ]
    },
    {
      "metadata": {
        "id": "u5sz0sRMysNp",
        "colab_type": "code",
        "colab": {},
        "outputId": "72859548-35b2-489b-f908-f1199e33a07c"
      },
      "cell_type": "code",
      "source": [
        "%matplotlib inline\n",
        "pd.crosstab(df.gre_score, df.school_ranking).plot(kind='bar')\n",
        "plt.title('GRE SCORE Distribution by SCHOOL RANKING')\n",
        "plt.xlabel('GRE SCORE')\n",
        "plt.ylabel('Frequency')"
      ],
      "execution_count": 0,
      "outputs": [
        {
          "output_type": "execute_result",
          "data": {
            "text/plain": [
              "<matplotlib.text.Text at 0x10d02c090>"
            ]
          },
          "metadata": {
            "tags": []
          },
          "execution_count": 5
        },
        {
          "output_type": "display_data",
          "data": {
            "image/png": "[encoded data removed]",
            "text/plain": [
              "<matplotlib.figure.Figure at 0x10bf21fd0>"
            ]
          },
          "metadata": {
            "tags": []
          }
        }
      ]
    },
    {
      "metadata": {
        "id": "b3yzdLBWysNx",
        "colab_type": "code",
        "colab": {},
        "outputId": "723ca87c-2194-40e0-b0cd-1f2b105e8ffd"
      },
      "cell_type": "code",
      "source": [
        "# histogram of GRE\n",
        "df.gre_score.hist()\n",
        "plt.title('Histogram of GRE SCORES')\n",
        "plt.xlabel('GRE SCORE')\n",
        "plt.ylabel('Frequency')"
      ],
      "execution_count": 0,
      "outputs": [
        {
          "output_type": "execute_result",
          "data": {
            "text/plain": [
              "<matplotlib.text.Text at 0x10d22f2d0>"
            ]
          },
          "metadata": {
            "tags": []
          },
          "execution_count": 6
        },
        {
          "output_type": "display_data",
          "data": {
            "image/png": "[encoded data removed]",
            "text/plain": [
              "<matplotlib.figure.Figure at 0x108100390>"
            ]
          },
          "metadata": {
            "tags": []
          }
        }
      ]
    },
    {
      "metadata": {
        "id": "dZcK_KHLysN7",
        "colab_type": "code",
        "colab": {},
        "outputId": "59474493-a696-4347-c7a3-cf51ee997c1a"
      },
      "cell_type": "code",
      "source": [
        "# histogram of SCHOOL RANKING\n",
        "df.school_ranking.hist()\n",
        "plt.title('Histogram of SCHOOL RANKING')\n",
        "plt.xlabel('SCHOOL RANKING')\n",
        "plt.ylabel('Frequency')"
      ],
      "execution_count": 0,
      "outputs": [
        {
          "output_type": "execute_result",
          "data": {
            "text/plain": [
              "<matplotlib.text.Text at 0x10d6d8cd0>"
            ]
          },
          "metadata": {
            "tags": []
          },
          "execution_count": 7
        },
        {
          "output_type": "display_data",
          "data": {
            "image/png": "[encoded data removed]",
            "text/plain": [
              "<matplotlib.figure.Figure at 0x10be19c10>"
            ]
          },
          "metadata": {
            "tags": []
          }
        }
      ]
    },
    {
      "metadata": {
        "id": "Woq0vYDGysOC",
        "colab_type": "code",
        "colab": {},
        "outputId": "5e9ef071-b32e-423f-ec8f-9fe31f4d5b14"
      },
      "cell_type": "code",
      "source": [
        "# Run Logistic Regression\n",
        "y, X = dmatrices('label ~ gre_score + gpa + school_ranking',\n",
        "                  df, return_type=\"dataframe\")\n",
        "print X.columns\n"
      ],
      "execution_count": 0,
      "outputs": [
        {
          "output_type": "stream",
          "text": [
            "Index([u'Intercept', u'gre_score', u'gpa', u'school_ranking'], dtype='object')\n"
          ],
          "name": "stdout"
        }
      ]
    },
    {
      "metadata": {
        "id": "5EMKSi7uysON",
        "colab_type": "code",
        "colab": {}
      },
      "cell_type": "code",
      "source": [
        "# flatten y into a 1-D array\n",
        "y = np.ravel(y)"
      ],
      "execution_count": 0,
      "outputs": []
    },
    {
      "metadata": {
        "id": "2ws8ufRGysOT",
        "colab_type": "code",
        "colab": {},
        "outputId": "8a5dea61-2003-4994-8a3f-64d66d02834d"
      },
      "cell_type": "code",
      "source": [
        "# instantiate a logistic regression model, and fit with X and y\n",
        "model = LogisticRegression()\n",
        "model = model.fit(X, y)\n",
        "\n",
        "# check the accuracy on the training set\n",
        "model.score(X, y)"
      ],
      "execution_count": 0,
      "outputs": [
        {
          "output_type": "execute_result",
          "data": {
            "text/plain": [
              "0.70750000000000002"
            ]
          },
          "metadata": {
            "tags": []
          },
          "execution_count": 10
        }
      ]
    },
    {
      "metadata": {
        "id": "hQfKGXhAysOf",
        "colab_type": "code",
        "colab": {},
        "outputId": "82c93c87-4abe-4be6-d8d8-19b7e0b8a745"
      },
      "cell_type": "code",
      "source": [
        "# what percentage were admitted?\n",
        "y.mean()"
      ],
      "execution_count": 0,
      "outputs": [
        {
          "output_type": "execute_result",
          "data": {
            "text/plain": [
              "0.3175"
            ]
          },
          "metadata": {
            "tags": []
          },
          "execution_count": 11
        }
      ]
    },
    {
      "metadata": {
        "id": "KPT5P3MmysOn",
        "colab_type": "code",
        "colab": {},
        "outputId": "a64326b4-8443-4690-9eb4-89b314171f49"
      },
      "cell_type": "code",
      "source": [
        "# Only 31.75% were admitted, so the null error rate is 68.25%\n",
        "# i.e, we get a 68.25% accuracy by simply predicting everyone in the training set to be not admitted.\n",
        "\n",
        "# examine the coefficients\n",
        "pd.DataFrame(zip(X.columns, np.transpose(model.coef_)))"
      ],
      "execution_count": 0,
      "outputs": [
        {
          "output_type": "execute_result",
          "data": {
            "text/html": [
              "<div style=\"max-height:1000px;max-width:1500px;overflow:auto;\">\n",
              "<table border=\"1\" class=\"dataframe\">\n",
              "  <thead>\n",
              "    <tr style=\"text-align: right;\">\n",
              "      <th></th>\n",
              "      <th>0</th>\n",
              "      <th>1</th>\n",
              "    </tr>\n",
              "  </thead>\n",
              "  <tbody>\n",
              "    <tr>\n",
              "      <th>0</th>\n",
              "      <td>      Intercept</td>\n",
              "      <td>   [-1.02765139068]</td>\n",
              "    </tr>\n",
              "    <tr>\n",
              "      <th>1</th>\n",
              "      <td>      gre_score</td>\n",
              "      <td> [0.00203746737217]</td>\n",
              "    </tr>\n",
              "    <tr>\n",
              "      <th>2</th>\n",
              "      <td>            gpa</td>\n",
              "      <td>   [0.437414476233]</td>\n",
              "    </tr>\n",
              "    <tr>\n",
              "      <th>3</th>\n",
              "      <td> school_ranking</td>\n",
              "      <td>  [-0.586442268855]</td>\n",
              "    </tr>\n",
              "  </tbody>\n",
              "</table>\n",
              "</div>"
            ],
            "text/plain": [
              "                0                   1\n",
              "0       Intercept    [-1.02765139068]\n",
              "1       gre_score  [0.00203746737217]\n",
              "2             gpa    [0.437414476233]\n",
              "3  school_ranking   [-0.586442268855]"
            ]
          },
          "metadata": {
            "tags": []
          },
          "execution_count": 12
        }
      ]
    },
    {
      "metadata": {
        "id": "AjfiwY9pysOw",
        "colab_type": "code",
        "colab": {},
        "outputId": "7f586a3b-0ab4-4007-edcc-7a3e5ae2d753"
      },
      "cell_type": "code",
      "source": [
        "# evaluate the model by splitting into train and test sets\n",
        "# X_train, X_test, y_train, y_test = train_test_split(X, y, test_size=0.3, random_state=0)\n",
        "X_scaled = preprocessing.scale(X)\n",
        "# evaluate the model by splitting into train and test sets\n",
        "X_train, X_test, y_train, y_test = train_test_split(X_scaled, y, test_size=0.3, random_state=0)\n",
        "\n",
        "model = LogisticRegression()\n",
        "model.fit(X_train, y_train)"
      ],
      "execution_count": 0,
      "outputs": [
        {
          "output_type": "execute_result",
          "data": {
            "text/plain": [
              "LogisticRegression(C=1.0, class_weight=None, dual=False, fit_intercept=True,\n",
              "          intercept_scaling=1, penalty='l2', random_state=None, tol=0.0001)"
            ]
          },
          "metadata": {
            "tags": []
          },
          "execution_count": 13
        }
      ]
    },
    {
      "metadata": {
        "id": "wzx0ThpRysO4",
        "colab_type": "code",
        "colab": {},
        "outputId": "e866cf93-9684-472c-e61b-9cbfeab1d918"
      },
      "cell_type": "code",
      "source": [
        "# predict class labels for the test set\n",
        "predicted = model.predict(X_test)\n",
        "\n",
        "# generate class probabilities\n",
        "probs = model.predict_proba(X_test)\n",
        "\n",
        "# generate evaluation metrics\n",
        "print metrics.accuracy_score(y_test, predicted)\n",
        "print metrics.roc_auc_score(y_test, probs[:, 1])"
      ],
      "execution_count": 0,
      "outputs": [
        {
          "output_type": "stream",
          "text": [
            "0.641666666667\n",
            "0.750218595162\n"
          ],
          "name": "stdout"
        }
      ]
    },
    {
      "metadata": {
        "scrolled": true,
        "id": "dp31ZUvBysPO",
        "colab_type": "code",
        "colab": {},
        "outputId": "a0ea734f-7b94-4472-ef8e-6293b2e1fa52"
      },
      "cell_type": "code",
      "source": [
        "# evaluate the model using 10-fold cross-validation\n",
        "scores = cross_val_score(LogisticRegression(), X, y, scoring='accuracy', cv=10)\n",
        "print scores\n",
        "print scores.mean()"
      ],
      "execution_count": 0,
      "outputs": [
        {
          "output_type": "stream",
          "text": [
            "[ 0.73170732  0.75609756  0.58536585  0.675       0.65        0.75        0.725\n",
            "  0.69230769  0.66666667  0.74358974]\n",
            "0.697573483427\n"
          ],
          "name": "stdout"
        }
      ]
    },
    {
      "metadata": {
        "id": "VGf-C_CSysPV",
        "colab_type": "code",
        "colab": {}
      },
      "cell_type": "code",
      "source": [
        ""
      ],
      "execution_count": 0,
      "outputs": []
    }
  ]
}