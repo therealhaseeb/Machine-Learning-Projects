{
  "nbformat": 4,
  "nbformat_minor": 0,
  "metadata": {
    "colab": {
      "name": "Spam_Detector.ipynb",
      "version": "0.3.2",
      "provenance": [],
      "collapsed_sections": [],
      "include_colab_link": true
    },
    "kernelspec": {
      "name": "python3",
      "display_name": "Python 3"
    },
    "accelerator": "GPU"
  },
  "cells": [
    {
      "cell_type": "markdown",
      "metadata": {
        "id": "view-in-github",
        "colab_type": "text"
      },
      "source": [
        "<a href=\"https://colab.research.google.com/github/haseeb1zahid/Machine-Learning-Projects/blob/master/Spam_Detector.ipynb\" target=\"_parent\"><img src=\"https://colab.research.google.com/assets/colab-badge.svg\" alt=\"Open In Colab\"/></a>"
      ]
    },
    {
      "metadata": {
        "id": "_lrMJYAZoe3z",
        "colab_type": "code",
        "colab": {}
      },
      "cell_type": "code",
      "source": [
        "import pandas as pd\n",
        "d = pd.read_csv(\"youtube_data.csv\", encoding='latin-1')"
      ],
      "execution_count": 0,
      "outputs": []
    },
    {
      "metadata": {
        "id": "4hG_DAk3p7rq",
        "colab_type": "code",
        "colab": {
          "base_uri": "https://localhost:8080/",
          "height": 289
        },
        "outputId": "bb4be6f7-049b-46ba-fd08-a86e2ac893ce"
      },
      "cell_type": "code",
      "source": [
        "d.head()"
      ],
      "execution_count": 6,
      "outputs": [
        {
          "output_type": "execute_result",
          "data": {
            "text/html": [
              "<div>\n",
              "<style scoped>\n",
              "    .dataframe tbody tr th:only-of-type {\n",
              "        vertical-align: middle;\n",
              "    }\n",
              "\n",
              "    .dataframe tbody tr th {\n",
              "        vertical-align: top;\n",
              "    }\n",
              "\n",
              "    .dataframe thead th {\n",
              "        text-align: right;\n",
              "    }\n",
              "</style>\n",
              "<table border=\"1\" class=\"dataframe\">\n",
              "  <thead>\n",
              "    <tr style=\"text-align: right;\">\n",
              "      <th></th>\n",
              "      <th>COMMENT_ID</th>\n",
              "      <th>AUTHOR</th>\n",
              "      <th>DATE</th>\n",
              "      <th>CONTENT</th>\n",
              "      <th>CLASS</th>\n",
              "    </tr>\n",
              "  </thead>\n",
              "  <tbody>\n",
              "    <tr>\n",
              "      <th>0</th>\n",
              "      <td>LZQPQhLyRh80UYxNuaDWhIGQYNQ96IuCg-AYWqNPjpU</td>\n",
              "      <td>Julius NM</td>\n",
              "      <td>2013-11-07T06:20:48</td>\n",
              "      <td>Huh, anyway check out this you[tube] channel: ...</td>\n",
              "      <td>1</td>\n",
              "    </tr>\n",
              "    <tr>\n",
              "      <th>1</th>\n",
              "      <td>LZQPQhLyRh_C2cTtd9MvFRJedxydaVW-2sNg5Diuo4A</td>\n",
              "      <td>adam riyati</td>\n",
              "      <td>2013-11-07T12:37:15</td>\n",
              "      <td>Hey guys check out my new channel and our firs...</td>\n",
              "      <td>1</td>\n",
              "    </tr>\n",
              "    <tr>\n",
              "      <th>2</th>\n",
              "      <td>LZQPQhLyRh9MSZYnf8djyk0gEF9BHDPYrrK-qCczIY8</td>\n",
              "      <td>Evgeny Murashkin</td>\n",
              "      <td>2013-11-08T17:34:21</td>\n",
              "      <td>just for test I have to say murdev.com</td>\n",
              "      <td>1</td>\n",
              "    </tr>\n",
              "    <tr>\n",
              "      <th>3</th>\n",
              "      <td>z13jhp0bxqncu512g22wvzkasxmvvzjaz04</td>\n",
              "      <td>ElNino Melendez</td>\n",
              "      <td>2013-11-09T08:28:43</td>\n",
              "      <td>me shaking my sexy ass on my channel enjoy ^_^ ?</td>\n",
              "      <td>1</td>\n",
              "    </tr>\n",
              "    <tr>\n",
              "      <th>4</th>\n",
              "      <td>z13fwbwp1oujthgqj04chlngpvzmtt3r3dw</td>\n",
              "      <td>GsMega</td>\n",
              "      <td>2013-11-10T16:05:38</td>\n",
              "      <td>watch?v=vtaRGgvGtWQ   Check this out .?</td>\n",
              "      <td>1</td>\n",
              "    </tr>\n",
              "  </tbody>\n",
              "</table>\n",
              "</div>"
            ],
            "text/plain": [
              "                                    COMMENT_ID            AUTHOR  \\\n",
              "0  LZQPQhLyRh80UYxNuaDWhIGQYNQ96IuCg-AYWqNPjpU         Julius NM   \n",
              "1  LZQPQhLyRh_C2cTtd9MvFRJedxydaVW-2sNg5Diuo4A       adam riyati   \n",
              "2  LZQPQhLyRh9MSZYnf8djyk0gEF9BHDPYrrK-qCczIY8  Evgeny Murashkin   \n",
              "3          z13jhp0bxqncu512g22wvzkasxmvvzjaz04   ElNino Melendez   \n",
              "4          z13fwbwp1oujthgqj04chlngpvzmtt3r3dw            GsMega   \n",
              "\n",
              "                  DATE                                            CONTENT  \\\n",
              "0  2013-11-07T06:20:48  Huh, anyway check out this you[tube] channel: ...   \n",
              "1  2013-11-07T12:37:15  Hey guys check out my new channel and our firs...   \n",
              "2  2013-11-08T17:34:21             just for test I have to say murdev.com   \n",
              "3  2013-11-09T08:28:43   me shaking my sexy ass on my channel enjoy ^_^ ?   \n",
              "4  2013-11-10T16:05:38            watch?v=vtaRGgvGtWQ   Check this out .?   \n",
              "\n",
              "   CLASS  \n",
              "0      1  \n",
              "1      1  \n",
              "2      1  \n",
              "3      1  \n",
              "4      1  "
            ]
          },
          "metadata": {
            "tags": []
          },
          "execution_count": 6
        }
      ]
    },
    {
      "metadata": {
        "id": "9lH1oehHqqcv",
        "colab_type": "code",
        "colab": {}
      },
      "cell_type": "code",
      "source": [
        "from sklearn.feature_extraction.text import CountVectorizer\n",
        "vectorizer = CountVectorizer()"
      ],
      "execution_count": 0,
      "outputs": []
    },
    {
      "metadata": {
        "id": "Bl6aXzYJqw9Y",
        "colab_type": "code",
        "colab": {}
      },
      "cell_type": "code",
      "source": [
        "dvec = vectorizer.fit_transform(d['CONTENT'])"
      ],
      "execution_count": 0,
      "outputs": []
    },
    {
      "metadata": {
        "id": "wW5UzI_Iq0G5",
        "colab_type": "code",
        "colab": {}
      },
      "cell_type": "code",
      "source": [
        "analyze = vectorizer.build_analyzer()"
      ],
      "execution_count": 0,
      "outputs": []
    },
    {
      "metadata": {
        "id": "UJLZwJwqq55N",
        "colab_type": "code",
        "colab": {
          "base_uri": "https://localhost:8080/",
          "height": 187
        },
        "outputId": "74347651-1b33-4b38-d8d9-8230cae126f8"
      },
      "cell_type": "code",
      "source": [
        "print(d['CONTENT'][0])\n",
        "analyze(d['CONTENT'][0])"
      ],
      "execution_count": 12,
      "outputs": [
        {
          "output_type": "stream",
          "text": [
            "Huh, anyway check out this you[tube] channel: kobyoshi02\n"
          ],
          "name": "stdout"
        },
        {
          "output_type": "execute_result",
          "data": {
            "text/plain": [
              "['huh',\n",
              " 'anyway',\n",
              " 'check',\n",
              " 'out',\n",
              " 'this',\n",
              " 'you',\n",
              " 'tube',\n",
              " 'channel',\n",
              " 'kobyoshi02']"
            ]
          },
          "metadata": {
            "tags": []
          },
          "execution_count": 12
        }
      ]
    },
    {
      "metadata": {
        "id": "m5X66_UQrJL1",
        "colab_type": "code",
        "colab": {}
      },
      "cell_type": "code",
      "source": [
        "dshuf = d.sample(frac=1)"
      ],
      "execution_count": 0,
      "outputs": []
    },
    {
      "metadata": {
        "id": "X0_evN3wrSiD",
        "colab_type": "code",
        "colab": {}
      },
      "cell_type": "code",
      "source": [
        "d_train = dshuf[:300]\n",
        "d_test = dshuf[300:]\n",
        "d_train_att = vectorizer.fit_transform(d_train['CONTENT']) # fit bag-of-words on training set\n",
        "d_test_att = vectorizer.transform(d_test['CONTENT']) # reuse on testing set\n",
        "d_train_label = d_train['CLASS']\n",
        "d_test_label = d_test['CLASS']"
      ],
      "execution_count": 0,
      "outputs": []
    },
    {
      "metadata": {
        "id": "iKW16WajrWJp",
        "colab_type": "code",
        "colab": {
          "base_uri": "https://localhost:8080/",
          "height": 51
        },
        "outputId": "371a85b5-b4ce-49df-b12f-05e5addc58ef"
      },
      "cell_type": "code",
      "source": [
        "d_train_att"
      ],
      "execution_count": 15,
      "outputs": [
        {
          "output_type": "execute_result",
          "data": {
            "text/plain": [
              "<300x1304 sparse matrix of type '<class 'numpy.int64'>'\n",
              "\twith 3771 stored elements in Compressed Sparse Row format>"
            ]
          },
          "metadata": {
            "tags": []
          },
          "execution_count": 15
        }
      ]
    },
    {
      "metadata": {
        "id": "87pRD-VsrZF9",
        "colab_type": "code",
        "colab": {
          "base_uri": "https://localhost:8080/",
          "height": 51
        },
        "outputId": "c8f1c9c3-0b26-461b-d3f5-6d1acf38ce47"
      },
      "cell_type": "code",
      "source": [
        "d_test_att"
      ],
      "execution_count": 16,
      "outputs": [
        {
          "output_type": "execute_result",
          "data": {
            "text/plain": [
              "<50x1304 sparse matrix of type '<class 'numpy.int64'>'\n",
              "\twith 464 stored elements in Compressed Sparse Row format>"
            ]
          },
          "metadata": {
            "tags": []
          },
          "execution_count": 16
        }
      ]
    },
    {
      "metadata": {
        "id": "1qU97BburcEo",
        "colab_type": "code",
        "colab": {}
      },
      "cell_type": "code",
      "source": [
        "from sklearn.ensemble import RandomForestClassifier\n",
        "clf = RandomForestClassifier(n_estimators=80)"
      ],
      "execution_count": 0,
      "outputs": []
    },
    {
      "metadata": {
        "id": "f7Cslm3sre7-",
        "colab_type": "code",
        "colab": {
          "base_uri": "https://localhost:8080/",
          "height": 34
        },
        "outputId": "56391359-8197-4e6d-b23a-0d85cb121947"
      },
      "cell_type": "code",
      "source": [
        "clf.fit(d_train_att, d_train_label)\n",
        "clf.score(d_test_att, d_test_label)"
      ],
      "execution_count": 27,
      "outputs": [
        {
          "output_type": "execute_result",
          "data": {
            "text/plain": [
              "0.96"
            ]
          },
          "metadata": {
            "tags": []
          },
          "execution_count": 27
        }
      ]
    },
    {
      "metadata": {
        "id": "mqTRi9dPrmCZ",
        "colab_type": "code",
        "colab": {
          "base_uri": "https://localhost:8080/",
          "height": 51
        },
        "outputId": "c6ba89e8-0ac2-42f8-cba0-0f213794428e"
      },
      "cell_type": "code",
      "source": [
        "from sklearn.metrics import confusion_matrix\n",
        "pred_labels = clf.predict(d_test_att)\n",
        "confusion_matrix(d_test_label, pred_labels)"
      ],
      "execution_count": 28,
      "outputs": [
        {
          "output_type": "execute_result",
          "data": {
            "text/plain": [
              "array([[26,  1],\n",
              "       [ 1, 22]])"
            ]
          },
          "metadata": {
            "tags": []
          },
          "execution_count": 28
        }
      ]
    },
    {
      "metadata": {
        "id": "WlEsD8IVrp0l",
        "colab_type": "code",
        "colab": {
          "base_uri": "https://localhost:8080/",
          "height": 34
        },
        "outputId": "84e8d07b-e5e7-4dd8-e001-31382557ae63"
      },
      "cell_type": "code",
      "source": [
        "from sklearn.model_selection import cross_val_score\n",
        "scores = cross_val_score(clf, d_train_att, d_train_label, cv=5)\n",
        "# show average score and +/- two standard deviations away (covering 95% of scores)\n",
        "print(\"Accuracy: %0.2f (+/- %0.2f)\" % (scores.mean(), scores.std() * 2))"
      ],
      "execution_count": 29,
      "outputs": [
        {
          "output_type": "stream",
          "text": [
            "Accuracy: 0.97 (+/- 0.04)\n"
          ],
          "name": "stdout"
        }
      ]
    }
  ]
}